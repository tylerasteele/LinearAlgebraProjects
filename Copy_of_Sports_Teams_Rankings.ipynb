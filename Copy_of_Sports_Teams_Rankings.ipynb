{
  "nbformat": 4,
  "nbformat_minor": 0,
  "metadata": {
    "colab": {
      "name": "Copy of Sports Teams Rankings.ipynb",
      "provenance": [],
      "include_colab_link": true
    },
    "kernelspec": {
      "name": "python3",
      "display_name": "Python 3"
    }
  },
  "cells": [
    {
      "cell_type": "markdown",
      "metadata": {
        "id": "view-in-github",
        "colab_type": "text"
      },
      "source": [
        "<a href=\"https://colab.research.google.com/github/tylerasteele/LinearAlgebraProjects/blob/main/Copy_of_Sports_Teams_Rankings.ipynb\" target=\"_parent\"><img src=\"https://colab.research.google.com/assets/colab-badge.svg\" alt=\"Open In Colab\"/></a>"
      ]
    },
    {
      "cell_type": "markdown",
      "metadata": {
        "id": "TwGBRAD9R6W4"
      },
      "source": [
        "# Load the preliminary code"
      ]
    },
    {
      "cell_type": "code",
      "metadata": {
        "id": "NaP8xyCfRrUg"
      },
      "source": [
        "import matplotlib.pyplot as plt\n",
        "from sympy import Poly\n",
        "import sympy as sym\n",
        "import numpy as np\n",
        "from numpy import c_\n",
        "\n",
        "# We'll specify that x and t are variables:\n",
        "x, t = sym.symbols('x, t')\n",
        "\n",
        "ll = \"loaded\""
      ],
      "execution_count": 1,
      "outputs": []
    },
    {
      "cell_type": "code",
      "metadata": {
        "id": "CANB9fuMRyBP",
        "colab": {
          "base_uri": "https://localhost:8080/"
        },
        "outputId": "3b61c951-8cdd-4549-c21d-af19894000e1"
      },
      "source": [
        "lll = \" correctly!\"\n",
        "\n",
        "def rref(matrix):\n",
        "    A = np.array(matrix, dtype=np.float64)\n",
        "    \n",
        "    r = 0 #row\n",
        "    c = 0 #column\n",
        "\n",
        "    (maxr, maxc) = A.shape\n",
        "\n",
        "    prev_row_pivot = -1   # The previous row with a leading term:\n",
        "    tmp_pivot_row = -1\n",
        "    this_pivot_row = -1\n",
        "\n",
        "    for c in range(maxc):  # go through each column\n",
        "      tmp_pivot_row = -1  # reset the tmp pivot row\n",
        "      this_pivot_row = -1  # reset this pivot row\n",
        "      for r in range(maxr):  # Find the leading term in this column below prev_row_pivot\n",
        "        if ((r > prev_row_pivot) and (A[r][c] != 0.0)):\n",
        "          tmp_pivot_row = r  # find the new pivot row\n",
        "      if (tmp_pivot_row > -1):  # we found a candidate for the leading term:\n",
        "        #swap row this_pivot_row with (prev_row_pivot + 1)\n",
        "        A[[tmp_pivot_row, prev_row_pivot+1]] = A[[prev_row_pivot + 1, tmp_pivot_row]]\n",
        "        #set this_pivot_row to prev_row_pivot+1\n",
        "        this_pivot_row = prev_row_pivot + 1\n",
        "        #Now, normalize the row based on the pivot value:\n",
        "        A[ this_pivot_row ] = A[ this_pivot_row ] / A[ this_pivot_row ][c]\n",
        "        #Then, use this row to force 0's above and below the pivot entry:\n",
        "        #subtract multiples of of the this_pivot_row row from the others\n",
        "        for r_ in range(len(A)):\n",
        "            if r_ != this_pivot_row:\n",
        "                A[r_] = A[r_] - A[this_pivot_row] * A[r_][c] / A[this_pivot_row][c]\n",
        "        prev_row_pivot = this_pivot_row\n",
        "    return A   \n",
        "\n",
        "\n",
        "def is_singular(matrix):\n",
        "  singular = True\n",
        "  notsingular = False\n",
        "\n",
        "  (mr, mc) = matrix.shape\n",
        "  \n",
        "  return_value = notsingular\n",
        "  if (mc - np.linalg.linalg.matrix_rank(matrix) > 0) :\n",
        "    return_value = singular\n",
        "  return return_value\n",
        " \n",
        "    \n",
        "    \n",
        "\n",
        "print(\">> The page \", ll, lll)"
      ],
      "execution_count": 22,
      "outputs": [
        {
          "output_type": "stream",
          "text": [
            ">> The page  loaded  correctly!\n"
          ],
          "name": "stdout"
        }
      ]
    },
    {
      "cell_type": "markdown",
      "metadata": {
        "id": "dCB31bhvTulU"
      },
      "source": [
        "# Ranking Teams based on games\n",
        "\n",
        "From our packet, we saw there were five games:\n",
        "\n",
        "Home  | Away\n",
        "------|------\n",
        "Winona State 16 | Sioux Falls 15\n",
        "Winona State 34 | Augustana 20\n",
        "Sioux Falls 51  | Augustana 13\n",
        "Duluth 28       |  Augustana 17\n",
        "Winona State 17 | Duluth 37\n",
        "\n",
        "Let's encode this system into a matrix.\n",
        "\n",
        "The unknown rankings are $r_w, r_s, r_a, r_d$.\n",
        "\n",
        "The system looks like $M \\vec{x} = \\vec{b}$, or\n",
        "\n",
        "$$\n",
        "\\left( \\begin{array}{cccc} 1 & -1 & 0 & 0 \\\\ 1 & 0 & -1 & 0 \\\\ 0 & 1 & -1 & 0 \\\\ 0 & 0 & -1 & 1 \\\\ -1 & 0  & 0 & 1 \\\\ \\end{array} \\right) \\, \\left( \\begin{array}{c} r_w \\\\ r_s \\\\ r_a \\\\ r_d \\\\ \\end{array} \\right) = \\left( \\begin{array}{c} 1 \\\\ 14 \\\\ 38 \\\\ 11 \\\\ 20 \\\\ \\end{array} \\right)$$\n",
        "\n",
        "We'll solve this system using least squares \n",
        "$$M^T I M \\vec{x} = M^T I \\vec{b} $$\n",
        "\n",
        "$$ \\vec{x} = \\left( M^T I M  \\right)^{-1} M^T I \\vec{b} $$\n",
        "\n",
        "\n",
        "\n",
        "\n"
      ]
    },
    {
      "cell_type": "code",
      "metadata": {
        "id": "zZOH_e5mViMs",
        "colab": {
          "base_uri": "https://localhost:8080/"
        },
        "outputId": "ee52eeb2-3d34-4d1d-d4ea-8a45ddb4e70e"
      },
      "source": [
        "# create the matrix:\n",
        "M = np.matrix([[1, -1, 0, 0],\n",
        "               [1, 0, -1, 0],\n",
        "               [0, 1, -1, 0],\n",
        "               [0, 0, -1, 1],\n",
        "               [-1, 0, 0, 1]])\n",
        "\n",
        "\n",
        "# create the vector for the right hand side:\n",
        "pts = np.matrix([[1], [14], [38], [11], [20]])\n",
        " \n",
        "#Make sure the system looks appropriate:\n",
        "print(np.c_[M,pts])"
      ],
      "execution_count": 23,
      "outputs": [
        {
          "output_type": "stream",
          "text": [
            "[[ 1 -1  0  0  1]\n",
            " [ 1  0 -1  0 14]\n",
            " [ 0  1 -1  0 38]\n",
            " [ 0  0 -1  1 11]\n",
            " [-1  0  0  1 20]]\n"
          ],
          "name": "stdout"
        }
      ]
    },
    {
      "cell_type": "code",
      "metadata": {
        "id": "s_r-ljCGWB18",
        "colab": {
          "base_uri": "https://localhost:8080/"
        },
        "outputId": "acdbf089-b3e7-41b9-f64f-ed18c398b997"
      },
      "source": [
        "# Generate the transpose of M:\n",
        "MT = M.transpose()\n",
        "\n",
        "print(\"The Transpose of M is:\")\n",
        "print(MT)\n",
        "\n",
        "# and find MT*M and MT*pts:\n",
        "print(\"\\n\")\n",
        "print(\"MT * M is: \")\n",
        "MTM = MT * M\n",
        "print(MTM)\n",
        "\n",
        "print(\"\\n\")\n",
        "print(\"MT * pts is:\")\n",
        "MTpts = MT * pts\n",
        "print(MTpts)\n"
      ],
      "execution_count": 24,
      "outputs": [
        {
          "output_type": "stream",
          "text": [
            "The Transpose of M is:\n",
            "[[ 1  1  0  0 -1]\n",
            " [-1  0  1  0  0]\n",
            " [ 0 -1 -1 -1  0]\n",
            " [ 0  0  0  1  1]]\n",
            "\n",
            "\n",
            "MT * M is: \n",
            "[[ 3 -1 -1 -1]\n",
            " [-1  2 -1  0]\n",
            " [-1 -1  3 -1]\n",
            " [-1  0 -1  2]]\n",
            "\n",
            "\n",
            "MT * pts is:\n",
            "[[ -5]\n",
            " [ 37]\n",
            " [-63]\n",
            " [ 31]]\n"
          ],
          "name": "stdout"
        }
      ]
    },
    {
      "cell_type": "markdown",
      "metadata": {
        "id": "x38H0uPwbhpF"
      },
      "source": [
        "If $M^T M$ has an inverse, then we can use it.  But, if $M^T M$ is singular, then it doesn't have an inverse.  In this situation, we need to replace every entry in one row (say the bottom row) of $M^T M$ and $M^T \\vec{pts}$ with 1's.  (This knocks the system out of *not* having an inverse, so it will now have an inverse.)"
      ]
    },
    {
      "cell_type": "code",
      "metadata": {
        "id": "1ebWW4rZaopa",
        "colab": {
          "base_uri": "https://localhost:8080/"
        },
        "outputId": "5c564580-6725-431c-fa1b-9be840da2c9c"
      },
      "source": [
        "#  Check if MTM is singular\n",
        "is_singular(MT*M)"
      ],
      "execution_count": 25,
      "outputs": [
        {
          "output_type": "execute_result",
          "data": {
            "text/plain": [
              "True"
            ]
          },
          "metadata": {
            "tags": []
          },
          "execution_count": 25
        }
      ]
    },
    {
      "cell_type": "code",
      "metadata": {
        "id": "Hs_ZR78AbziT",
        "colab": {
          "base_uri": "https://localhost:8080/"
        },
        "outputId": "33c930a8-fb96-4e0a-c2b9-42ec3b71bf32"
      },
      "source": [
        "# If MTM is singular, then adjust one row of MTM and MT pts to be just 1's:\n",
        "\n",
        "#MTM[3] is the entire 4th row of MTM, \n",
        "#so MTM[3] = 1 will put 1's in MTM's 4th row.\n",
        "\n",
        "MTM[3] = 1\n",
        "MTpts[3] = 1\n",
        "\n",
        "print(\"MTM is now: \")\n",
        "print(MTM)\n",
        "\n",
        "print(\"and MTpts is now:\")\n",
        "print(MTpts)\n",
        "\n",
        "print(\"Is our modified MTM singular?\")\n",
        "is_singular(MTM)"
      ],
      "execution_count": 26,
      "outputs": [
        {
          "output_type": "stream",
          "text": [
            "MTM is now: \n",
            "[[ 3 -1 -1 -1]\n",
            " [-1  2 -1  0]\n",
            " [-1 -1  3 -1]\n",
            " [ 1  1  1  1]]\n",
            "and MTpts is now:\n",
            "[[ -5]\n",
            " [ 37]\n",
            " [-63]\n",
            " [  1]]\n",
            "Is our modified MTM singular?\n"
          ],
          "name": "stdout"
        },
        {
          "output_type": "execute_result",
          "data": {
            "text/plain": [
              "False"
            ]
          },
          "metadata": {
            "tags": []
          },
          "execution_count": 26
        }
      ]
    },
    {
      "cell_type": "code",
      "metadata": {
        "id": "48WK4ZH7WRxH",
        "colab": {
          "base_uri": "https://localhost:8080/"
        },
        "outputId": "33948e07-824a-4be8-f1f0-995ea3fde34b"
      },
      "source": [
        "#Find our solution using the inverse of MTM:\n",
        "\n",
        "#First, find the inverse of MTM:\n",
        "MTMI = np.linalg.inv(MTM)\n",
        "\n",
        "print(\"The inverse of MTM is:\")\n",
        "print(MTMI)\n",
        "\n",
        "#Now, use the inverse of MTM to solve for the rankings:\n",
        "\n",
        "print(\"\\n\")\n",
        "print(\"The solution are rankings:\")\n",
        "MTMI * MTpts"
      ],
      "execution_count": 27,
      "outputs": [
        {
          "output_type": "stream",
          "text": [
            "The inverse of MTM is:\n",
            "[[ 2.50000000e-01  1.85037171e-17  1.85037171e-17  2.50000000e-01]\n",
            " [ 1.25000000e-01  5.00000000e-01  1.25000000e-01  2.50000000e-01]\n",
            " [-1.38777878e-17 -2.77555756e-17  2.50000000e-01  2.50000000e-01]\n",
            " [-3.75000000e-01 -5.00000000e-01 -3.75000000e-01  2.50000000e-01]]\n",
            "\n",
            "\n",
            "The solution are rankings:\n"
          ],
          "name": "stdout"
        },
        {
          "output_type": "execute_result",
          "data": {
            "text/plain": [
              "matrix([[ -1.  ],\n",
              "        [ 10.25],\n",
              "        [-15.5 ],\n",
              "        [  7.25]])"
            ]
          },
          "metadata": {
            "tags": []
          },
          "execution_count": 27
        }
      ]
    },
    {
      "cell_type": "markdown",
      "metadata": {
        "id": "YOTdLT4-R-1h"
      },
      "source": [
        "#  Game Data  - Fall Sports\n",
        "\n",
        "Find the game data for the four teams in the NFC North and NFC South.\n",
        "\n",
        "The teams are:\n",
        "\n",
        "* **NFC North:**  Green Bay Packers, Chicago Bears, Detroit Lions, Minnesota Vikings\n",
        "* **NFC South:**  Atlanta Falcons, Carolina Panthers, New Orleans Saints, Tampa Bay Buccaneers\n",
        "\n",
        "\n",
        "It may be helpful to do a google search to find the data.\n",
        "\n",
        "Be sure to create your matrix on the handout, then enter the data for the system below.\n",
        "\n",
        "# Game Data - Spring Sports\n",
        "\n",
        "Find the game data for the seven teams in the Western Division for Men's Big Ten Basketball.\n",
        "\n",
        "**The teams:**  Wisconsin, Minnesota, Iowa, Illinois, Nebraska, Purdue, and Northewstern.\n",
        "\n",
        "I've provided **most** of the data, but you have to do a Google search to find the scores for the last two teams.\n",
        "\n",
        "Be sure to create your matrix on the handout, then enter the data for the system below.\n"
      ]
    },
    {
      "cell_type": "code",
      "metadata": {
        "id": "RrMkbXIC5v_X",
        "colab": {
          "base_uri": "https://localhost:8080/"
        },
        "outputId": "61789a56-4c7d-4aaf-bec2-5ed4e17b1796"
      },
      "source": [
        "# create the matrix:\n",
        "M = np.matrix([[1, 0, 0, 0, -1, 0, 0],\n",
        "               [1, -1, 0, 0, 0, 0, 0],\n",
        "               [1, 0, 0, 0, 0, 0, -1],\n",
        "               [-1, 0, 0, 1, 0, 0, 0],             \n",
        "               [1, 0, 0, 0, -1, 0, 0],          \n",
        "               [-1, 0, 1, 0, 0, 0, 0],\n",
        "               [1, 0, 0, 0, 0, 0, -1],             \n",
        "               [-1, 0, 0, 1, 0, 0, 0],\n",
        "               [-1, 0, 0, 0, 0, 1, 0],        \n",
        "               [-1, 0, 1, 0, 0, 0, 0],\n",
        "               [0, -1, 0, 1, 0, 0, 0],      \n",
        "               [0, 1, -1, 0, 0, 0, 0],\n",
        "               [0, -1, 1, 0, 0, 0, 0],              \n",
        "               [0, -1, 0, 0, 0, 1, 0],\n",
        "               [0, 1, 0, 0, -1, 0, 0],\n",
        "               [0, 1, 0, 0, 0, -1, 0],\n",
        "               [0, -1, 0, 1, 0, 0, 0],\n",
        "               [0, -1, 0, 0, 0, 0, 1],\n",
        "               [0, -1, 0, 0, 1, 0, 0],\n",
        "               [0, 0, 1, 0, 0, -1, 0],\n",
        "               [0, 0, 1, 0, 0, 0, -1],\n",
        "               [0, 0, 1, 0, 0, 0, -1],\n",
        "               [0, 0, -1, 1, 0, 0, 0],\n",
        "               [0, 0, 1, 0, -1, 0, 0],\n",
        "               [0, 0, 0, 1, 0, -1, 0],\n",
        "               [0, 0, 0, 1, 0, 0, -1],\n",
        "               [0, 0, 0, 1, -1, 0, 0],\n",
        "               [0, 0, 0, 1, 0, 0, -1],\n",
        "               [0, 0, 0, 1, -1, 0, 0],\n",
        "               [0, 0, 0, 0, -1, 1, 0],\n",
        "               [0, 0, 0, 0, -1, 0, 1],\n",
        "               [0, 0, 0, 0, 0, 1, -1]])\n",
        "\n",
        "\n",
        "# create the vector for the right hand side:\n",
        "pts = np.matrix([[14], [12], [16], [-15], [13], [-15], [17], [-5], [-4], [-4], [-27], [7], [-15], [-19], [18], [3], [-31], [-8], [-4], [15], [15], [23], [-5], [38], [8], [25], [5], [7], [16], [-17], [-5], [5]])\n",
        " \n",
        "#Make sure the system looks appropriate:\n",
        "print(np.c_[M,pts])"
      ],
      "execution_count": 36,
      "outputs": [
        {
          "output_type": "stream",
          "text": [
            "[[  1   0   0   0  -1   0   0  14]\n",
            " [  1  -1   0   0   0   0   0  12]\n",
            " [  1   0   0   0   0   0  -1  16]\n",
            " [ -1   0   0   1   0   0   0 -15]\n",
            " [  1   0   0   0  -1   0   0  13]\n",
            " [ -1   0   1   0   0   0   0 -15]\n",
            " [  1   0   0   0   0   0  -1  17]\n",
            " [ -1   0   0   1   0   0   0  -5]\n",
            " [ -1   0   0   0   0   1   0  -4]\n",
            " [ -1   0   1   0   0   0   0  -4]\n",
            " [  0  -1   0   1   0   0   0 -27]\n",
            " [  0   1  -1   0   0   0   0   7]\n",
            " [  0  -1   1   0   0   0   0 -15]\n",
            " [  0  -1   0   0   0   1   0 -19]\n",
            " [  0   1   0   0  -1   0   0  18]\n",
            " [  0   1   0   0   0  -1   0   3]\n",
            " [  0  -1   0   1   0   0   0 -31]\n",
            " [  0  -1   0   0   0   0   1  -8]\n",
            " [  0  -1   0   0   1   0   0  -4]\n",
            " [  0   0   1   0   0  -1   0  15]\n",
            " [  0   0   1   0   0   0  -1  15]\n",
            " [  0   0   1   0   0   0  -1  23]\n",
            " [  0   0  -1   1   0   0   0  -5]\n",
            " [  0   0   1   0  -1   0   0  38]\n",
            " [  0   0   0   1   0  -1   0   8]\n",
            " [  0   0   0   1   0   0  -1  25]\n",
            " [  0   0   0   1  -1   0   0   5]\n",
            " [  0   0   0   1   0   0  -1   7]\n",
            " [  0   0   0   1  -1   0   0  16]\n",
            " [  0   0   0   0  -1   1   0 -17]\n",
            " [  0   0   0   0  -1   0   1  -5]\n",
            " [  0   0   0   0   0   1  -1   5]]\n"
          ],
          "name": "stdout"
        }
      ]
    },
    {
      "cell_type": "code",
      "metadata": {
        "id": "TLLB3Ebe587M",
        "colab": {
          "base_uri": "https://localhost:8080/"
        },
        "outputId": "b00e639b-340a-4d11-8ed4-db57273606cb"
      },
      "source": [
        "# Generate the transpose of M:\n",
        "MT = M.transpose()\n",
        "\n",
        "print(\"The Transpose of M is:\")\n",
        "print(MT)\n",
        "\n",
        "# and find MT*M and MT*pts:\n",
        "print(\"\\n\")\n",
        "print(\"MT * M is: \")\n",
        "MTM = MT * M\n",
        "print(MTM)\n",
        "\n",
        "print(\"\\n\")\n",
        "print(\"MT * pts is:\")\n",
        "MTpts = MT * pts\n",
        "print(MTpts)\n",
        "print(\"\\n\\n\",MTM)"
      ],
      "execution_count": 40,
      "outputs": [
        {
          "output_type": "stream",
          "text": [
            "The Transpose of M is:\n",
            "[[ 1  1  1 -1  1 -1  1 -1 -1 -1  0  0  0  0  0  0  0  0  0  0  0  0  0  0\n",
            "   0  0  0  0  0  0  0  0]\n",
            " [ 0 -1  0  0  0  0  0  0  0  0 -1  1 -1 -1  1  1 -1 -1 -1  0  0  0  0  0\n",
            "   0  0  0  0  0  0  0  0]\n",
            " [ 0  0  0  0  0  1  0  0  0  1  0 -1  1  0  0  0  0  0  0  1  1  1 -1  1\n",
            "   0  0  0  0  0  0  0  0]\n",
            " [ 0  0  0  1  0  0  0  1  0  0  1  0  0  0  0  0  1  0  0  0  0  0  1  0\n",
            "   1  1  1  1  1  0  0  0]\n",
            " [-1  0  0  0 -1  0  0  0  0  0  0  0  0  0 -1  0  0  0  1  0  0  0  0 -1\n",
            "   0  0 -1  0 -1 -1 -1  0]\n",
            " [ 0  0  0  0  0  0  0  0  1  0  0  0  0  1  0 -1  0  0  0 -1  0  0  0  0\n",
            "  -1  0  0  0  0  1  0  1]\n",
            " [ 0  0 -1  0  0  0 -1  0  0  0  0  0  0  0  0  0  0  1  0  0 -1 -1  0  0\n",
            "   0 -1  0 -1  0  0  1 -1]]\n",
            "\n",
            "\n",
            "MT * M is: \n",
            "[[10 -1 -2 -2 -2 -1 -2]\n",
            " [-1 10 -2 -2 -2 -2 -1]\n",
            " [-2 -2  9 -1 -1 -1 -2]\n",
            " [-2 -2 -1 10 -2 -1 -2]\n",
            " [-2 -2 -1 -2  9 -1 -1]\n",
            " [-1 -2 -1 -1 -1  7 -1]\n",
            " [-2 -1 -2 -2 -1 -1  9]]\n",
            "\n",
            "\n",
            "MT * pts is:\n",
            "[[ 115]\n",
            " [ 120]\n",
            " [  55]\n",
            " [ -22]\n",
            " [ -86]\n",
            " [ -61]\n",
            " [-121]]\n",
            "\n",
            "\n",
            " [[10 -1 -2 -2 -2 -1 -2]\n",
            " [-1 10 -2 -2 -2 -2 -1]\n",
            " [-2 -2  9 -1 -1 -1 -2]\n",
            " [-2 -2 -1 10 -2 -1 -2]\n",
            " [-2 -2 -1 -2  9 -1 -1]\n",
            " [-1 -2 -1 -1 -1  7 -1]\n",
            " [-2 -1 -2 -2 -1 -1  9]]\n"
          ],
          "name": "stdout"
        }
      ]
    },
    {
      "cell_type": "code",
      "metadata": {
        "id": "VXqKSDj06BVa",
        "colab": {
          "base_uri": "https://localhost:8080/"
        },
        "outputId": "cbf6d880-fa38-4e36-f152-37e98ffad813"
      },
      "source": [
        "#  Check if MTM is singular\n",
        "is_singular(MT*M)"
      ],
      "execution_count": 38,
      "outputs": [
        {
          "output_type": "execute_result",
          "data": {
            "text/plain": [
              "True"
            ]
          },
          "metadata": {
            "tags": []
          },
          "execution_count": 38
        }
      ]
    },
    {
      "cell_type": "code",
      "metadata": {
        "id": "5E2eXRT76MQh",
        "colab": {
          "base_uri": "https://localhost:8080/"
        },
        "outputId": "37a3bdfd-ec8f-4d20-cb79-16b3c632ec85"
      },
      "source": [
        "# Careful - you might not need to do this!  \n",
        "# Be sure to check whether MTM is singular on the previous line.\n",
        "\n",
        "# If MTM is singular, then adjust one row of MTM and MT pts to be just 1's:\n",
        "\n",
        "#MTM[3] is the entire 4th row of MTM, \n",
        "#so MTM[3] = 1 will put 1's in MTM's 4th row.\n",
        "\n",
        "MTM[6] = 1\n",
        "MTpts[6] = 1\n",
        "\n",
        "print(\"MTM is now: \")\n",
        "print(MTM)\n",
        "\n",
        "print(\"and MTpts is now:\")\n",
        "print(MTpts)\n",
        "\n",
        "print(\"Is our modified MTM singular?\")\n",
        "is_singular(MTM)"
      ],
      "execution_count": 41,
      "outputs": [
        {
          "output_type": "stream",
          "text": [
            "MTM is now: \n",
            "[[10 -1 -2 -2 -2 -1 -2]\n",
            " [-1 10 -2 -2 -2 -2 -1]\n",
            " [-2 -2  9 -1 -1 -1 -2]\n",
            " [-2 -2 -1 10 -2 -1 -2]\n",
            " [-2 -2 -1 -2  9 -1 -1]\n",
            " [-1 -2 -1 -1 -1  7 -1]\n",
            " [ 1  1  1  1  1  1  1]]\n",
            "and MTpts is now:\n",
            "[[115]\n",
            " [120]\n",
            " [ 55]\n",
            " [-22]\n",
            " [-86]\n",
            " [-61]\n",
            " [  1]]\n",
            "Is our modified MTM singular?\n"
          ],
          "name": "stdout"
        },
        {
          "output_type": "execute_result",
          "data": {
            "text/plain": [
              "False"
            ]
          },
          "metadata": {
            "tags": []
          },
          "execution_count": 41
        }
      ]
    },
    {
      "cell_type": "code",
      "metadata": {
        "id": "UkDKmNba6YHi",
        "colab": {
          "base_uri": "https://localhost:8080/"
        },
        "outputId": "f9a884d1-e0be-44de-836c-ef242602516c"
      },
      "source": [
        "#Find our solution using the inverse of MTM:\n",
        "\n",
        "#First, find the inverse of MTM:\n",
        "MTMI = np.linalg.inv(MTM)\n",
        "\n",
        "print(\"The inverse of MTM is:\")\n",
        "print(MTMI)\n",
        "\n",
        "#Now, use the inverse of MTM to solve for the rankings:\n",
        "\n",
        "print(\"\\n\")\n",
        "print(\"The solution are rankings:\")\n",
        "MTMI * MTpts"
      ],
      "execution_count": 42,
      "outputs": [
        {
          "output_type": "stream",
          "text": [
            "The inverse of MTM is:\n",
            "[[ 8.32670976e-02 -8.67025223e-03 -7.21969055e-04 -7.28592624e-04\n",
            "  -7.94828317e-04 -1.13108485e-02  1.42857143e-01]\n",
            " [ 7.06514060e-04  9.24826904e-02  7.70100325e-03  7.77165466e-03\n",
            "   8.47816872e-03  9.53793981e-03  1.42857143e-01]\n",
            " [-7.77165466e-04 -1.73095945e-03  9.15288964e-02 -8.54882012e-03\n",
            "  -9.32598559e-03 -1.04917338e-02  1.42857143e-01]\n",
            " [ 5.74042673e-05 -8.19114738e-04 -7.70762682e-03  8.39647803e-02\n",
            "   6.88851208e-04 -9.64170906e-03  1.42857143e-01]\n",
            " [ 8.40310160e-03  8.29933234e-03 -7.28592624e-05  9.10078423e-03\n",
            "   1.00837219e-01 -1.14146178e-03  1.42857143e-01]\n",
            " [ 8.83142575e-05  1.15603363e-02  9.62625406e-04  9.71456832e-04\n",
            "   1.05977109e-03  1.26192242e-01  1.42857143e-01]\n",
            " [-9.17452664e-02 -1.01122033e-01 -9.16900699e-02 -9.25312632e-02\n",
            "  -1.00943196e-01 -1.03144429e-01  1.42857143e-01]]\n",
            "\n",
            "\n",
            "The solution are rankings:\n"
          ],
          "name": "stdout"
        },
        {
          "output_type": "execute_result",
          "data": {
            "text/plain": [
              "matrix([[  9.41278084],\n",
              "        [ 10.26367105],\n",
              "        [  6.50996185],\n",
              "        [ -1.69107673],\n",
              "        [ -6.70146248],\n",
              "        [ -6.21704112],\n",
              "        [-10.5768334 ]])"
            ]
          },
          "metadata": {
            "tags": []
          },
          "execution_count": 42
        }
      ]
    },
    {
      "cell_type": "code",
      "metadata": {
        "id": "IMkKgXISLTMG"
      },
      "source": [
        ""
      ],
      "execution_count": 42,
      "outputs": []
    }
  ]
}