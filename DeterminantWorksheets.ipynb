{
  "nbformat": 4,
  "nbformat_minor": 0,
  "metadata": {
    "colab": {
      "name": "DeterminantWorksheets.ipynb",
      "provenance": [],
      "authorship_tag": "ABX9TyOcqNFX7jlIFOSv+83AWKtl",
      "include_colab_link": true
    },
    "kernelspec": {
      "name": "python3",
      "display_name": "Python 3"
    },
    "language_info": {
      "name": "python"
    }
  },
  "cells": [
    {
      "cell_type": "markdown",
      "metadata": {
        "id": "view-in-github",
        "colab_type": "text"
      },
      "source": [
        "<a href=\"https://colab.research.google.com/github/tylerasteele/LinearAlgebraProjects/blob/main/DeterminantWorksheets.ipynb\" target=\"_parent\"><img src=\"https://colab.research.google.com/assets/colab-badge.svg\" alt=\"Open In Colab\"/></a>"
      ]
    },
    {
      "cell_type": "code",
      "metadata": {
        "colab": {
          "base_uri": "https://localhost:8080/"
        },
        "id": "Tn1_PXbqguw3",
        "outputId": "dc26c1c7-e73b-4961-97c3-ad4b002c4abc"
      },
      "source": [
        "import matplotlib.pyplot as plt\n",
        "from sympy import Poly\n",
        "import sympy as sym\n",
        "import numpy as np\n",
        "from numpy import c_\n",
        "\n",
        "# We'll specify that x and t are variables:\n",
        "x, t = sym.symbols('x, t')\n",
        "\n",
        "test = np.matrix([[12, 13, 12],\n",
        "                  [5, 0, 4],\n",
        "                  [1, 2, 3]])\n",
        "\n",
        "np.linalg.det(test)"
      ],
      "execution_count": null,
      "outputs": [
        {
          "output_type": "execute_result",
          "data": {
            "text/plain": [
              "-118.99999999999993"
            ]
          },
          "metadata": {
            "tags": []
          },
          "execution_count": 2
        }
      ]
    },
    {
      "cell_type": "code",
      "metadata": {
        "colab": {
          "base_uri": "https://localhost:8080/"
        },
        "id": "580AlVZ9hSzS",
        "outputId": "e5fa9196-82ae-4ee5-a328-e7f7c5d702c7"
      },
      "source": [
        "a = np.matrix([[10, 7],\n",
        "               [8 , 9]])\n",
        "b = np.matrix([[-10, -1],\n",
        "               [-4 , 7]])\n",
        "c = np.matrix([[1, -3],\n",
        "               [7 , 7]])\n",
        "\n",
        "\n",
        "#print (a*b,\"\\n\\n\", b*a)\n",
        "#print (np.linalg.det(a*b), \"\\n\\n\", np.linalg.det(b*a))\n",
        "\n",
        "#print (a*c,\"\\n\\n\", c*a)\n",
        "#print (np.linalg.det(a*c), \"\\n\\n\", np.linalg.det(c*a))\n",
        "\n",
        "print (b*c,\"\\n\\n\", c*b)\n",
        "print (np.linalg.det(b*c), \"\\n\\n\", np.linalg.det(c*b))\n",
        "\n"
      ],
      "execution_count": null,
      "outputs": [
        {
          "output_type": "stream",
          "text": [
            "[[-17  23]\n",
            " [ 45  61]] \n",
            "\n",
            " [[  2 -22]\n",
            " [-98  42]]\n",
            "-2071.9999999999995 \n",
            "\n",
            " -2071.9999999999995\n"
          ],
          "name": "stdout"
        }
      ]
    },
    {
      "cell_type": "code",
      "metadata": {
        "colab": {
          "base_uri": "https://localhost:8080/"
        },
        "id": "nYQNHQfRkl_0",
        "outputId": "06e8283f-d61a-41b1-c459-e9f1ba1f510b"
      },
      "source": [
        "print(np.linalg.det(a*b*c), \"\\n\", np.linalg.det(a*c*b), \"\\n\",np.linalg.det(c*b*a) )"
      ],
      "execution_count": null,
      "outputs": [
        {
          "output_type": "stream",
          "text": [
            "-70447.99999999994 \n",
            " -70447.99999999994 \n",
            " -70447.99999999994\n"
          ],
          "name": "stdout"
        }
      ]
    },
    {
      "cell_type": "code",
      "metadata": {
        "id": "Kj7kHKdXk0sO",
        "colab": {
          "base_uri": "https://localhost:8080/"
        },
        "outputId": "9ea48e8c-cbfc-41f2-e00f-0ce34cbe56f8"
      },
      "source": [
        "A = np.matrix([[3, 2, 3],\n",
        "               [-6, 1, -10],\n",
        "               [-8, -9, -9]])\n",
        "B = np.matrix([[1, -2, 1],\n",
        "                [5, 5, 4],\n",
        "                [4, 0, 0]])\n",
        "C = np.matrix([[1, 0, 0], \n",
        "                [0, 2, 0],\n",
        "                [-3, -2, 1]])\n",
        "\n",
        "#print (A*B,\"\\n\\n\", B*A)\n",
        "#print (np.linalg.det(A*B), \"\\n\\n\", np.linalg.det(B*A))\n",
        "\n",
        "#print (A*C,\"\\n\\n\", C*A)\n",
        "#print (np.linalg.det(A*C), \"\\n\\n\", np.linalg.det(C*A))\n",
        "\n",
        "#print (B*C,\"\\n\\n\", C*B)\n",
        "#print (np.linalg.det(B*C), \"\\n\\n\", np.linalg.det(C*B))\n"
      ],
      "execution_count": 19,
      "outputs": [
        {
          "output_type": "stream",
          "text": [
            "[[-2 -6  1]\n",
            " [-7  2  4]\n",
            " [ 4  0  0]] \n",
            "\n",
            " [[  1  -2   1]\n",
            " [ 10  10   8]\n",
            " [ -9  -4 -11]]\n",
            "-103.99999999999999 \n",
            "\n",
            " -104.00000000000007\n"
          ],
          "name": "stdout"
        }
      ]
    },
    {
      "cell_type": "code",
      "metadata": {
        "colab": {
          "base_uri": "https://localhost:8080/"
        },
        "id": "aVNaryQYqLBQ",
        "outputId": "551e6bcf-77d5-4127-82f2-c388a04c7952"
      },
      "source": [
        "print(np.linalg.det(A*B*C), \"\\n\", np.linalg.det(A*C*B), \"\\n\",np.linalg.det(C*B*A) )"
      ],
      "execution_count": 20,
      "outputs": [
        {
          "output_type": "stream",
          "text": [
            "6135.999999999995 \n",
            " 6136.000000000006 \n",
            " 6136.000000000006\n"
          ],
          "name": "stdout"
        }
      ]
    },
    {
      "cell_type": "code",
      "metadata": {
        "id": "zza0ExKWqoKR"
      },
      "source": [
        ""
      ],
      "execution_count": null,
      "outputs": []
    }
  ]
}